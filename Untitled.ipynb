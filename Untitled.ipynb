{
 "cells": [
  {
   "cell_type": "code",
   "execution_count": 3,
   "id": "dc1c1a89-a23c-4f3b-9bb8-abfd814189d6",
   "metadata": {
    "tags": []
   },
   "outputs": [],
   "source": [
    "import os\n",
    "import streamlit as st\n",
    "import matplotlib.pyplot as plt\n",
    "import pandas as pd\n",
    "import numpy as np\n",
    "from dotenv import load_dotenv\n",
    "from collections import Counter\n",
    "from collections import defaultdict\n",
    "\n",
    "# Importing necessary modules and functions from nutritionix_api.py\n",
    "from nutritionix_api import NutritionixAPI, NutrientCalculator"
   ]
  },
  {
   "cell_type": "code",
   "execution_count": 6,
   "id": "1786b17d-8758-42c5-bc6b-579e74d8d0d3",
   "metadata": {},
   "outputs": [
    {
     "name": "stdout",
     "output_type": "stream",
     "text": [
      "{'protein': 3.5, 'carbohydrate': 3.5, 'fat': 8.5}\n"
     ]
    }
   ],
   "source": [
    "from constants import atwater_factors\n",
    "\n",
    "print(atwater_factors)"
   ]
  },
  {
   "cell_type": "code",
   "execution_count": 5,
   "id": "f624b39f-b590-41a7-b883-8c75c3d7cc57",
   "metadata": {
    "tags": []
   },
   "outputs": [
    {
     "ename": "NameError",
     "evalue": "name 'protein_me' is not defined",
     "output_type": "error",
     "traceback": [
      "\u001b[0;31m---------------------------------------------------------------------------\u001b[0m",
      "\u001b[0;31mNameError\u001b[0m                                 Traceback (most recent call last)",
      "Cell \u001b[0;32mIn[5], line 1\u001b[0m\n\u001b[0;32m----> 1\u001b[0m \u001b[38;5;28mprint\u001b[39m(protein_me)\n",
      "\u001b[0;31mNameError\u001b[0m: name 'protein_me' is not defined"
     ]
    }
   ],
   "source": []
  },
  {
   "cell_type": "code",
   "execution_count": null,
   "id": "b68c4e14-7e57-41e9-92a8-6b66e4ddfb7c",
   "metadata": {},
   "outputs": [],
   "source": []
  }
 ],
 "metadata": {
  "kernelspec": {
   "display_name": "Python 3 (ipykernel)",
   "language": "python",
   "name": "python3"
  },
  "language_info": {
   "codemirror_mode": {
    "name": "ipython",
    "version": 3
   },
   "file_extension": ".py",
   "mimetype": "text/x-python",
   "name": "python",
   "nbconvert_exporter": "python",
   "pygments_lexer": "ipython3",
   "version": "3.11.4"
  }
 },
 "nbformat": 4,
 "nbformat_minor": 5
}
