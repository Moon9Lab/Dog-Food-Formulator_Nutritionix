{
 "cells": [
  {
   "cell_type": "code",
   "execution_count": 3,
   "id": "dc1c1a89-a23c-4f3b-9bb8-abfd814189d6",
   "metadata": {
    "tags": []
   },
   "outputs": [],
   "source": [
    "import os\n",
    "import streamlit as st\n",
    "import matplotlib.pyplot as plt\n",
    "import pandas as pd\n",
    "import numpy as np\n",
    "from dotenv import load_dotenv\n",
    "from collections import Counter\n",
    "from collections import defaultdict\n",
    "\n",
    "# Importing necessary modules and functions from nutritionix_api.py\n",
    "from nutritionix_api import NutritionixAPI, NutrientCalculator"
   ]
  },
  {
   "cell_type": "code",
   "execution_count": 4,
   "id": "1786b17d-8758-42c5-bc6b-579e74d8d0d3",
   "metadata": {},
   "outputs": [],
   "source": [
    "def display_macronutrient_pie_chart(aggregated_nutrients):\n",
    "    # Extract macronutrient data from aggregated_nutrients\n",
    "    protein_me = aggregated_nutrients.get('protein_me', 0)\n",
    "    fat_me = aggregated_nutrients.get('fat_me', 0)\n",
    "    carbohydrate_me = aggregated_nutrients.get('carbohydrate_me', 0)\n",
    "    metabolizable_energy = aggregated_nutrients.get('metabolizable_energy', 1)\n",
    "    \n",
    "    # Compute percentages, handling NaN values\n",
    "    sizes = [protein_me, fat_me, carbohydrate_me]\n",
    "    percentages = [np.nan_to_num((calories / metabolizable_energy) * 100) for calories in sizes]\n",
    "    \n",
    "    # Define labels and custom colors for each macronutrient\n",
    "    labels = ['Proteins', 'Fats', 'Carbohydrates']\n",
    "    colors = ['#B4217D', '#F0AB02', '#19A6B8']\n",
    "    \n",
    "    # Plotting the Pie chart with updated visual elements\n",
    "    fig, ax = plt.subplots()\n",
    "    ax.pie(percentages, labels=labels, colors=colors, autopct='%1.1f%%', startangle=90)\n",
    "    ax.axis('equal')\n",
    "    plt.title('Sources of Calories')\n",
    "    \n",
    "    # Display the pie chart in Streamlit\n",
    "    st.pyplot(fig)\n",
    "\n"
   ]
  },
  {
   "cell_type": "code",
   "execution_count": 5,
   "id": "f624b39f-b590-41a7-b883-8c75c3d7cc57",
   "metadata": {
    "tags": []
   },
   "outputs": [
    {
     "ename": "NameError",
     "evalue": "name 'protein_me' is not defined",
     "output_type": "error",
     "traceback": [
      "\u001b[0;31m---------------------------------------------------------------------------\u001b[0m",
      "\u001b[0;31mNameError\u001b[0m                                 Traceback (most recent call last)",
      "Cell \u001b[0;32mIn[5], line 1\u001b[0m\n\u001b[0;32m----> 1\u001b[0m \u001b[38;5;28mprint\u001b[39m(protein_me)\n",
      "\u001b[0;31mNameError\u001b[0m: name 'protein_me' is not defined"
     ]
    }
   ],
   "source": [
    "print(protein_me)"
   ]
  },
  {
   "cell_type": "code",
   "execution_count": null,
   "id": "b68c4e14-7e57-41e9-92a8-6b66e4ddfb7c",
   "metadata": {},
   "outputs": [],
   "source": []
  }
 ],
 "metadata": {
  "kernelspec": {
   "display_name": "Python 3 (ipykernel)",
   "language": "python",
   "name": "python3"
  },
  "language_info": {
   "codemirror_mode": {
    "name": "ipython",
    "version": 3
   },
   "file_extension": ".py",
   "mimetype": "text/x-python",
   "name": "python",
   "nbconvert_exporter": "python",
   "pygments_lexer": "ipython3",
   "version": "3.11.4"
  }
 },
 "nbformat": 4,
 "nbformat_minor": 5
}
