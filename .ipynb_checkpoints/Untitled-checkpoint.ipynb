{
 "cells": [
  {
   "cell_type": "code",
   "execution_count": 1,
   "id": "dc1c1a89-a23c-4f3b-9bb8-abfd814189d6",
   "metadata": {
    "tags": []
   },
   "outputs": [
    {
     "name": "stdout",
     "output_type": "stream",
     "text": [
      "  Nutrient attr_id\n",
      "0  Protein     203\n"
     ]
    },
    {
     "name": "stderr",
     "output_type": "stream",
     "text": [
      "/var/folders/gd/xg54dbjn0299s56ks5_hjn5h0000gn/T/ipykernel_32583/4112629564.py:31: FutureWarning: The frame.append method is deprecated and will be removed from pandas in a future version. Use pandas.concat instead.\n",
      "  results_df = results_df.append({'Nutrient': nutrient_name, 'attr_id': attr_id}, ignore_index=True)\n"
     ]
    }
   ],
   "source": [
    "import pandas as pd\n",
    "from nutritionix_api import NutritionixAPI\n",
    "import os\n",
    "\n",
    "# Load API keys (replace these with your actual API keys)\n",
    "app_id = os.getenv('NUTRITIONIX_APP_ID')\n",
    "app_key = os.getenv('NUTRITIONIX_APP_KEY')\n",
    "\n",
    "# Initialize the Nutritionix API client\n",
    "nutritionix_api = NutritionixAPI(app_id=app_id, app_key=app_key)\n",
    "\n",
    "# Define the AAFCO targets (replace this with the actual target dictionary)\n",
    "aafco_cc_protein_targets = {\n",
    "    \"Protein\": {\"unit\": \"g\", \"Puppy & Growth\": 56.3, \"Adult\": 45.0},\n",
    "    \"Tyrosine\": {\"unit\": \"g\", \"Puppy & Growth\": 3.25, \"Adult\": 1.85},\n",
    "    \"Leucine\": {\"unit\": \"g\", \"Puppy & Growth\": 3.23, \"Adult\": 1.70},\n",
    "    \"Threonine\": {\"unit\": \"g\", \"Puppy & Growth\": 2.60, \"Adult\": 1.20},\n",
    "    \"Arginine\": {\"unit\": \"g\", \"Puppy & Growth\": 2.50, \"Adult\": 1.28},\n",
    "    \"Lysine\": {\"unit\": \"g\", \"Puppy & Growth\": 2.25, \"Adult\": 1.58},\n",
    "    \"Phenylalanine\": {\"unit\": \"g\", \"Puppy & Growth\": 2.08, \"Adult\": 1.13},\n",
    "    \"Isoleucine\": {\"unit\": \"g\", \"Puppy & Growth\": 1.78, \"Adult\": 0.95},\n",
    "    \"Cystine\": {\"unit\": \"g\", \"Puppy & Growth\": 1.75, \"Adult\": 1.63},\n",
    "    \"Valine\": {\"unit\": \"g\", \"Puppy & Growth\": 1.70, \"Adult\": 1.23},\n",
    "    \"Histidine\": {\"unit\": \"g\", \"Puppy & Growth\": 1.10, \"Adult\": 0.48},\n",
    "    \"Methionine\": {\"unit\": \"g\", \"Puppy & Growth\": 0.88, \"Adult\": 0.83},\n",
    "    \"Tryptophan\": {\"unit\": \"g\", \"Puppy & Growth\": 0.50, \"Adult\": 0.40},\n",
    "}\n",
    "\n",
    "# Initialize an empty DataFrame to store the results\n",
    "results_df = pd.DataFrame(columns=['Nutrient', 'attr_id'])\n",
    "\n",
    "# Loop over the nutrients in the target dictionary\n",
    "for nutrient_name in aafco_cc_protein_targets.keys():\n",
    "    # Find the attr_id corresponding to the nutrient_name\n",
    "    attr_id = None\n",
    "    for id, name in nutritionix_api.id_to_name_mapping.items():\n",
    "        if name == nutrient_name:\n",
    "            attr_id = id\n",
    "            break\n",
    "\n",
    "    # Append the result to the DataFrame\n",
    "    results_df = results_df.append({'Nutrient': nutrient_name, 'attr_id': attr_id}, ignore_index=True)\n",
    "\n",
    "# Display the results\n",
    "print(results_df)\n"
   ]
  },
  {
   "cell_type": "code",
   "execution_count": null,
   "id": "1786b17d-8758-42c5-bc6b-579e74d8d0d3",
   "metadata": {},
   "outputs": [],
   "source": []
  }
 ],
 "metadata": {
  "kernelspec": {
   "display_name": "Python 3 (ipykernel)",
   "language": "python",
   "name": "python3"
  },
  "language_info": {
   "codemirror_mode": {
    "name": "ipython",
    "version": 3
   },
   "file_extension": ".py",
   "mimetype": "text/x-python",
   "name": "python",
   "nbconvert_exporter": "python",
   "pygments_lexer": "ipython3",
   "version": "3.11.4"
  }
 },
 "nbformat": 4,
 "nbformat_minor": 5
}
